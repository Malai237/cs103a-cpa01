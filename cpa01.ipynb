{
 "cells": [
  {
   "cell_type": "markdown",
   "id": "c3c9fb60-d1a2-49d2-8436-8bd6aab5808a",
   "metadata": {},
   "source": [
    "# Energy Dataset\n",
    "\n",
    "### The dataset contains the energy types that are consumed and produced of all the countries from 1900 to 2020. \n",
    "\n",
    "#### How to download the dataset: \n",
    "#### Head to this page: https://github.com/owid/energy-data, the download csv section is in the readme section of the page.\n",
    "\n",
    "\n",
    "### The questions I would like to answer are:\n",
    "\n",
    "### 1. Which major power is still very dependendent on coal?\n",
    "\n",
    "\n",
    "### 2. Which major power is consuming the most renewable energy per capita?"
   ]
  },
  {
   "cell_type": "code",
   "execution_count": null,
   "id": "3b83d459-dc5a-4d20-aba4-847ea95ccb2c",
   "metadata": {},
   "outputs": [],
   "source": [
    "import numpy as np\n",
    "import pandas as pd\n",
    "import matplotlib.pyplot as plt"
   ]
  },
  {
   "cell_type": "code",
   "execution_count": null,
   "id": "6e04739f-4554-4afe-af35-65f3788983db",
   "metadata": {},
   "outputs": [],
   "source": [
    "energy = pd.read_csv(\"owid-energy-data.csv\")"
   ]
  },
  {
   "cell_type": "code",
   "execution_count": null,
   "id": "245f0c92-092f-46cc-acaa-db364d1caa02",
   "metadata": {},
   "outputs": [],
   "source": [
    "energy.describe()"
   ]
  },
  {
   "cell_type": "code",
   "execution_count": null,
   "id": "879ae1ff-ab11-4a86-8be1-bbbc15cca6fc",
   "metadata": {},
   "outputs": [],
   "source": [
    "# reset index to year\n",
    "# energy = energy.set_index(energy['year'])\n",
    "display(energy.columns.unique())\n",
    "display(energy.index.unique())"
   ]
  },
  {
   "cell_type": "code",
   "execution_count": null,
   "id": "c5d09b7f-4cda-4fa7-8301-72ac711d542b",
   "metadata": {},
   "outputs": [],
   "source": [
    "energy.head()"
   ]
  },
  {
   "cell_type": "code",
   "execution_count": null,
   "id": "9b8bef89-d55e-4c2b-84e5-3e882ae6e36e",
   "metadata": {
    "scrolled": true,
    "tags": []
   },
   "outputs": [],
   "source": [
    "for key in energy.columns:\n",
    "    print(key)"
   ]
  },
  {
   "cell_type": "code",
   "execution_count": null,
   "id": "04000dcc-12ba-4b3a-99ba-54ed4f5e3f85",
   "metadata": {
    "scrolled": true,
    "tags": []
   },
   "outputs": [],
   "source": [
    "for key in energy.index:\n",
    "    print(key)"
   ]
  },
  {
   "cell_type": "code",
   "execution_count": null,
   "id": "bee7ca7b-ddf7-4aca-a324-e4b5ec2155f1",
   "metadata": {},
   "outputs": [],
   "source": [
    "ukdf = energy[energy[\"country\"] == \"United Kingdom\"]\n",
    "usadf = energy[energy['country']=='United States']\n",
    "russiadf = energy[energy['country']=='Russia']\n",
    "germanydf = energy[energy['country']=='Germany']\n",
    "francedf =  energy[energy['country']=='France']\n",
    "\n",
    "ukdf = ukdf.set_index(\"year\")\n",
    "usadf = usadf.set_index(\"year\")\n",
    "russiadf = russiadf.set_index(\"year\")\n",
    "germanydf = germanydf.set_index(\"year\")\n",
    "francedf =  francedf.set_index(\"year\")\n"
   ]
  },
  {
   "cell_type": "code",
   "execution_count": null,
   "id": "0f36d3c0-36e5-459b-9e4d-4d0f12259753",
   "metadata": {},
   "outputs": [],
   "source": [
    "russiadf"
   ]
  },
  {
   "cell_type": "markdown",
   "id": "af3f0d6a-d692-4ff4-bb16-44b9f62b30c3",
   "metadata": {},
   "source": [
    "### Simple plot"
   ]
  },
  {
   "cell_type": "code",
   "execution_count": null,
   "id": "1dd0d18b-38d8-4f9a-bf60-21ec89f02a2a",
   "metadata": {},
   "outputs": [],
   "source": [
    "def plot_indicator(df,label):\n",
    "    plt.plot(range(1979,2020),df.loc[1980:2020][\"coal_cons_per_capita\"],label=label)\n",
    "plt.figure(figsize=(15,10))\n",
    "plot_indicator(ukdf,'UK')\n",
    "plot_indicator(usadf,'USA')\n",
    "plot_indicator(russiadf,'Russia')\n",
    "plot_indicator(germanydf,'Germany')\n",
    "plot_indicator(francedf,'France')\n",
    "plt.legend()\n",
    "plt.title(\"Coal Consumption per capita\",fontsize=32)\n",
    "plt.grid()\n",
    "    "
   ]
  },
  {
   "cell_type": "markdown",
   "id": "7edd92d6-98fb-4e7a-adee-389390a7eb34",
   "metadata": {},
   "source": [
    "### Groupby Analysis\n"
   ]
  },
  {
   "cell_type": "code",
   "execution_count": null,
   "id": "55e19cdb-7dcf-43b8-950e-41744e53a6b1",
   "metadata": {},
   "outputs": [],
   "source": [
    "# Binning of the data based on a condition (75% percentile produces 104 gas)\n",
    "energy.loc[energy.gas_production < 104, 'Gas Producer'] = \"No/Low Gas Producer\"\n",
    "energy.loc[energy.gas_production >= 104,'Gas Producer'] = \"High Gas Producer\"\n",
    " \n",
    "# Grouping and couting\n",
    "energy.groupby('Gas Producer').count()\n",
    "# energy_groupby = energy.groupby('coal_prod_per_capita')\n",
    "# display(energy_groupby.head())\n",
    "# display(energy)"
   ]
  },
  {
   "cell_type": "markdown",
   "id": "8d443f0a-4ed0-4b23-9201-4b82df59211a",
   "metadata": {},
   "source": [
    "### Pivot Table Analysis"
   ]
  },
  {
   "cell_type": "code",
   "execution_count": null,
   "id": "bf942c39-775c-4206-8af3-3ca236742f75",
   "metadata": {},
   "outputs": [],
   "source": [
    "energy_pivot = energy.pivot(columns = 'country', index = 'year', values = 'renewables_energy_per_capita')"
   ]
  },
  {
   "cell_type": "code",
   "execution_count": null,
   "id": "7c728487-c368-4a35-b355-0f258ec26426",
   "metadata": {},
   "outputs": [],
   "source": [
    "energy_pivot"
   ]
  },
  {
   "cell_type": "code",
   "execution_count": null,
   "id": "6988f288-97cf-4532-8c20-1c0d0d31cab3",
   "metadata": {},
   "outputs": [],
   "source": [
    "energy_pivot[['United States','United Kingdom','Russia', 'France','Germany']].plot(figsize=(15,10))\n",
    "plt.grid()\n",
    "plt.title(\"Renewable Energy per capita\",fontsize=32)"
   ]
  },
  {
   "cell_type": "markdown",
   "id": "b9443c8b-ca16-4731-969d-befab403f630",
   "metadata": {},
   "source": [
    "## Discussion:\n",
    "\n",
    "### Coal consumption in general is on a declining trend, which is great to see. However, US is still the highest consumer of Coal per capita. \n",
    "\n",
    "### Most countries have increased renewable source consumption per capita except for Russia. This might be due to Russia being an Oil producing nation. Its dependency on oil is much higher as a result. \n",
    "\n",
    "### The renewable energy consumption in nearly all the countries has been on the rise since the 2000s. With Germany having the highest uptake in renewable energy"
   ]
  },
  {
   "cell_type": "code",
   "execution_count": null,
   "id": "e0c0f566-5983-4118-86d1-380b2c5cab54",
   "metadata": {},
   "outputs": [],
   "source": []
  }
 ],
 "metadata": {
  "kernelspec": {
   "display_name": "Python 3",
   "language": "python",
   "name": "python3"
  },
  "language_info": {
   "codemirror_mode": {
    "name": "ipython",
    "version": 3
   },
   "file_extension": ".py",
   "mimetype": "text/x-python",
   "name": "python",
   "nbconvert_exporter": "python",
   "pygments_lexer": "ipython3",
   "version": "3.9.5"
  }
 },
 "nbformat": 4,
 "nbformat_minor": 5
}
